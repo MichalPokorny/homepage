{
  "nbformat": 4,
  "nbformat_minor": 0,
  "metadata": {
    "colab": {
      "name": "Model of continuous asset growth",
      "version": "0.3.2",
      "provenance": [],
      "collapsed_sections": [],
      "include_colab_link": true
    },
    "kernelspec": {
      "name": "python3",
      "display_name": "Python 3"
    }
  },
  "cells": [
    {
      "cell_type": "markdown",
      "metadata": {
        "id": "view-in-github",
        "colab_type": "text"
      },
      "source": [
        "<a href=\"https://colab.research.google.com/github/agentydragon/agentydragon.github.io/blob/devel/Model_of_continuous_asset_growth.ipynb\" target=\"_parent\"><img src=\"https://colab.research.google.com/assets/colab-badge.svg\" alt=\"Open In Colab\"/></a>"
      ]
    },
    {
      "cell_type": "markdown",
      "metadata": {
        "id": "w12yLl0oCOS3",
        "colab_type": "text"
      },
      "source": [
        "FIRE stands for financial independence/early retirement.\n",
        "The point is to save and invest money, and pay yourself a salary from the interest, eventually becoming independent on other sources of inocme.\n",
        "\n",
        "There is a relationship between:\n",
        "\n",
        "* How much you have invested\n",
        "* The interest your investment makes. (The widely cited \"[Trinity study](https://en.wikipedia.org/wiki/Trinity_study)\" suggests 4% as a \"safe withdrawal rate\".) \n",
        "* The salary you pay yourself\n",
        "* How long your savings last for you\n",
        "\n",
        "I have a program named worthy ([on Github](https://github.com/agentydragon/worthy)) that tracks my net worth and models when will I be financially independent under various assumptions. Here I describe the slightly fancy math behind a\n",
        "more accurate model for this relationship I finished implementing today.\n",
        "\n",
        "I am probably rediscovering Financial Mathematics 101 ¯\\\\\\_(ツ)\\_/¯\n",
        "\n",
        "The questions\n",
        "===\n",
        "\n",
        "* The **\"how much\" question**: *I want to pay myself 1000 USD. My stocks grow 4% per year. How much money do I need?*\n",
        "* The **\"how long until\" question**: *I have 100 000 USD and save 3000 USD per month. How long until I have 200 000 USD?*\n",
        "\n",
        "First shot\n",
        "===\n",
        "\n",
        "Previously the tool's model was very basic, and answered the two questions as follows:\n",
        "\n",
        "* *I want to pay myself 1000 USD per month. My stocks grow 4% per year. How much money do I need?*\n",
        "  Well, the 4% you get per year should cover the yearly costs, so $1000 / (1.04 ^ {1/12} - 1) \\approx306\\ 000$ USD.\n",
        "* *I have 100 000 USD and save 3000 USD per month. How long until I have the 306 000 USD that you said I need?*\n",
        "  That I modelled linearly, with just $ (306000 - 100000) / (3000/\\text{month}) \\approx 69\\ \\text{months}$."
      ]
    },
    {
      "cell_type": "markdown",
      "metadata": {
        "id": "rzcBM3xPGovG",
        "colab_type": "text"
      },
      "source": [
        "Problems\n",
        "===\n",
        "\n",
        "\n",
        "Assuming infinite retirement time\n",
        "====\n",
        "\n",
        "If you pay yourself a monthly salary of $ \\$1000 $ and your monthly interest is $ \\$1000 $, your money will last forever, beyond your (likely) lifespan. If you are fine with retiring with $ \\$0 $, you can pay yourself a bit more than just the $ \\$1000$ interest.\n",
        "\n",
        "Ignoring growth while saving\n",
        "====\n",
        "\n",
        "\"Take how much money I need - how much I have, divide by monthly savings\" ignores that the money I saved up so far also earn interest, before I'm done saving. It's too pessimistic.\n"
      ]
    },
    {
      "cell_type": "markdown",
      "metadata": {
        "id": "WLXgvnTgF2Or",
        "colab_type": "text"
      },
      "source": [
        "Stand aside, I know differential equations!\n",
        "===\n",
        "\n",
        "Let's model the depletion of your money as a function $f$, which will map number of years since retirement to the amount of money. You start with some initial amount $f(0)$. If we pretend you withdraw the salary for a year and add interest once yearly, we'd get:\n",
        "\n",
        "$$\n",
        "f(x+1) = f(x) + i\\cdot f(x) - c\n",
        "$$\n",
        "\n",
        "Where $i$ is the yearly interest rate and $c$ are the yearly costs. In the example above, $i=0.04$ and $c=12000$ USD.\n",
        "\n",
        "Then:\n",
        "\n",
        "$$\n",
        "f(x+1) - f(x) = i\\cdot f(x) - c\n",
        "$$\n",
        "\n",
        "If we instead pretend that everything is continuous and squint, this looks like a differential equation:\n",
        "\n",
        "$$\n",
        "f'(x) = i'\\cdot f(x) - c'\n",
        "$$\n",
        "\n",
        "(Where $i'$ plays *sorta* the same role as $i$ - except it's not equal to $i$. For now let's pretend it's some unknown variable. Its relationship to $i$ will eventually pop out.)\n",
        "\n",
        "[Wikipedia's Ordinary differential equations article](https://en.wikipedia.org/wiki/Ordinary_differential_equation) says that if $dy/dx = F(y)$, then the solution is  $x=\\int ^{y}{\\frac {d\\lambda }{F(\\lambda )}}+C$. In our case, we have $F:x\\mapsto ix-c'$, so:\n",
        "\n",
        "$$x = \\int^{f(x)}{\\frac{1}{i'\\lambda-c'} d\\lambda}+C =_\\text{Wolfram Alpha} \\frac{\\log(i'f(x)-c')}{i'} + C$$\n",
        "\n",
        "Solving for $f(x)$:\n",
        "\n",
        "$$\n",
        "\\log(i'f(x)-c') = i'(x-C) \\\\\n",
        "i'f(x)-c' = \\exp(i'(x-C)) \\\\\n",
        "f(x) = \\frac{\\exp(i'(x-C)) + c'}{i'}\n",
        "$$\n",
        "\n",
        "So, magic happened and I pulled the general form of $f(x)$ out of a hat. We know what are the $i$ and $c$ values when we assumed interest and costs happen only once yearly.\n",
        "\n",
        "What about $i'$?\n",
        "Let's guess it.\n",
        "If we had no yearly costs (so $c=c'=0$), we wanted to have $f$ growing at a constant rate, gaining $i$ in interest per year:\n",
        "\n",
        "$$\n",
        "f(x+1) / f(x) = 1+i\n",
        "$$\n",
        "\n",
        "Substituting in the above equation of $f$, we get: $$\\exp(i'(x+1-C)) / \\exp(i'(x-C)) = 1+i$$\n",
        "\n",
        "When we simplify the fraction, we get $\\exp(i') = 1+i$ and therefore $i'=\\log(1+i)$. So, we have now successfully\n",
        "guessed the right value for $i'$ :)\n",
        "\n",
        "Now what's the right value of $c'$?\n",
        "\n",
        "If we set interest to $i=0$, $f(x)$ should simplify to a nice linear equation losing $c$ per 1 unit of $x$.\n",
        "\n",
        "$$x=\\int^{f(x)} -\\frac{1}{c'} d\\lambda + C = -f(x)/c' + C$$\n",
        "\n",
        "So:\n",
        "$$-f(x)/c' = x-C\\\\\n",
        "-f(x)=c'(x-C)\\\\\n",
        "f(x)=-c'(x-C)\n",
        "$$\n",
        "\n",
        "So the right value for $c'$ is exactly $c$.\n",
        "\n",
        "So we have:\n",
        "$$\n",
        "f(x) = \\frac{\\exp(\\log(1+i)(x-C)) + c}{\\log(1+i)} = \\frac{(1+i)^{x-C} + c}{\\log(1+i)} \n",
        "$$\n",
        "\n",
        "$C$ mediates a multiplicative factor before $(1+i)^x$. $C$ is just *some constant that makes the function work with the $f(0)$ boundary condition*. Instead of wiggling the $C$, we can instead wiggle $C_2=(1+i)^-C$, which is the actual multiplicative factor, and relabel $C_2$ as $C$. (It's an abuse of notation, but an OK one. \\*handwave\\*)\n",
        "\n",
        "$$\n",
        "f(x) = C \\cdot (1+i)^{x} + \\frac{c}{\\log(1+i)} \n",
        "$$\n",
        "The one remaining unknown variable is $C$, which we will get from $f(0)$ - which are the initial savings.\n",
        "\n",
        "$$f(0) = C + \\frac{c}{\\log(1+i)}$$\n",
        "\n",
        "So:\n",
        "\n",
        "$$C = f_0 - \\frac{c}{i'}$$\n",
        "\n",
        "Okay this is a little bit ugly. Let's play."
      ]
    },
    {
      "cell_type": "code",
      "metadata": {
        "id": "c2iWUK0fAqwd",
        "colab_type": "code",
        "colab": {}
      },
      "source": [
        "c = 12000  # yearly costs\n",
        "f_0 = 100000  # initial savings\n",
        "i = 0.04  # interest"
      ],
      "execution_count": 0,
      "outputs": []
    },
    {
      "cell_type": "code",
      "metadata": {
        "id": "61lwp0bxVaQp",
        "colab_type": "code",
        "outputId": "dabba1a2-7b4d-4cae-f52e-7fb3a55881d5",
        "colab": {
          "base_uri": "https://localhost:8080/",
          "height": 238
        }
      },
      "source": [
        "from math import log, exp\n",
        "i_prime = log(1+i)\n",
        "print(f'i_prime={i_prime}')\n",
        "\n",
        "C = f_0 - (c / i_prime)\n",
        "print(f'C={C}')\n",
        "\n",
        "def f(x):\n",
        "  return C * (1+i) ** x + (c / i_prime)\n",
        "\n",
        "for r in range(11):\n",
        "  print(\"after\", r, \"years, got:\", f(r))"
      ],
      "execution_count": 0,
      "outputs": [
        {
          "output_type": "stream",
          "text": [
            "i_prime=0.03922071315328133\n",
            "C=-205960.78029234003\n",
            "after 0 years, got: 100000.0\n",
            "after 1 years, got: 91761.56878830638\n",
            "after 2 years, got: 83193.60032814502\n",
            "after 3 years, got: 74282.91312957724\n",
            "after 4 years, got: 65015.79844306671\n",
            "after 5 years, got: 55377.9991690958\n",
            "after 6 years, got: 45354.68792416598\n",
            "after 7 years, got: 34930.44422943902\n",
            "after 8 years, got: 24089.23078692297\n",
            "after 9 years, got: 12814.368806706276\n",
            "after 10 years, got: 1088.512347280921\n"
          ],
          "name": "stdout"
        }
      ]
    },
    {
      "cell_type": "markdown",
      "metadata": {
        "id": "8N_aow1EY5Qg",
        "colab_type": "text"
      },
      "source": [
        "Cool, it seems to be giving reasonable results. But our two questions were: *how much money do I need to pay myself a given salary* and *how long until I save up the money I need*.\n",
        "\n",
        "Let's instead first solve another question: *if I have 100 000 USD and spend 1000 USD per month, how long will it last me*.\n",
        "\n",
        "For that, we just need to invert the familiar function:\n",
        "\n",
        "$$\n",
        "f(x) = C \\cdot (1+i)^{x} + \\frac{c}{\\log(1+i)}\n",
        "$$\n",
        "\n",
        "We want to know the number of years $x$ at which we will run out of money (so $f(x)=0$)\n",
        "$$\n",
        "0 = C \\cdot (1+i)^x + \\frac{c}{\\log(1+i)} \\\\\n",
        "(1+i)^x = \\frac{-c}{C \\log(i+1)} \\\\\n",
        "x = \\frac{\\log{\\frac{-c}{C \\cdot i'}}}{i'}\n",
        "$$\n",
        "\n",
        "And let's test it:"
      ]
    },
    {
      "cell_type": "code",
      "metadata": {
        "id": "RWZDHgpiZtnn",
        "colab_type": "code",
        "outputId": "5395a1cd-d0f4-4ccf-a471-53616edd0a7f",
        "colab": {
          "base_uri": "https://localhost:8080/",
          "height": 34
        }
      },
      "source": [
        "x = (log(-c / (C * i_prime))) / i_prime\n",
        "print(x)"
      ],
      "execution_count": 0,
      "outputs": [
        {
          "output_type": "stream",
          "text": [
            "10.090871103712766\n"
          ],
          "name": "stdout"
        }
      ]
    },
    {
      "cell_type": "markdown",
      "metadata": {
        "id": "XgaZoNh7vVqV",
        "colab_type": "text"
      },
      "source": [
        "Cool, this matches what the Python $f(x)$ predicted above - after 10 years, it was just dwindling at about 1088 USD."
      ]
    },
    {
      "cell_type": "markdown",
      "metadata": {
        "id": "yKlt3tKNh_v-",
        "colab_type": "text"
      },
      "source": [
        "Answering the *how long* question\n",
        "===\n",
        "\n",
        "To answer the question \"if I now have 100 000 USD collecting 4% interest per year and put in 1000 USD per month, how long until I have 306 000 USD\", we can use the same procedure - just plug in a target $f(x)=306\\ 000$ instead of zero and set a negative $c$ to represent savings instead of costs. Details left as homework for the curious reader.\n",
        "\n",
        "If you're curious about the Go code, see\n",
        "[this commit](https://github.com/agentydragon/worthy/commit/c48ded40640cda8e3851fd0b2a9512f95ae89997).\n",
        "\n",
        "Answering the *how much* question\n",
        "===\n",
        "\n",
        "As a reminder, the \"how much\" question asks: *if I want to pay myself a salary of 1000 USD per month, how much money do I need*. Previously, I solved that with saying \"the interest should cover all the costs\", which resulted in an investment that would last *forever* (a *perpetuity*). But now have a function that models an investment under conditions of withdrawing (or saving) money, and we can use that to model with a finite time horizon, and get a better estimate.\n",
        "\n",
        "Say that we know that we are 40 years old and want our money to run out on our 100th birthday. So, after $x=60$ years\n",
        "of paying ourselves, say, 1000 USD per month (so the yearly costs $c=12000$), we want to have $f(x)=0$.\n",
        "How much initial money $f(0)$ do we need for that stunt of precious timing?\n",
        "\n",
        "Okay, from above, we know:\n",
        "\n",
        "$$\n",
        "f(x) = C (1+i)^{x} + \\frac{c}{i'} = \\left(f(0) - \\frac{c}{i'}\\right) \\cdot (1+i)^{x} + \\frac{c}{i'}\n",
        "$$\n",
        "\n",
        "So:\n",
        "\n",
        "$$\n",
        "f(x) = f(0)(1+i)^x - \\frac{c}{i'}(1+i)^x + \\frac{c}{i'} \\\\\n",
        "-f(0)(1+i)^x = \\frac{c}{i'} -f(x) - \\frac{c}{i'}(1+i)^x\n",
        "$$\n",
        "\n",
        "Let's remember that we want $f(x)$ to be 0.\n",
        "\n",
        "$$\n",
        "-f(0)(1+i)^x = \\frac{c}{i'} - \\frac{c}{i'}(1+i)^x = \\frac{c}{i'}(1-(1+i)^x) \\\\\n",
        "f(0) = \\frac{c}{i'}(1-(1+i)^{-x})\n",
        "$$\n",
        "\n",
        "Let's try it out:"
      ]
    },
    {
      "cell_type": "code",
      "metadata": {
        "id": "06FemPiDumvW",
        "colab_type": "code",
        "colab": {}
      },
      "source": [
        "c = 12000  # yearly costs\n",
        "x = 60  # years for the investment to survive\n",
        "i = 0.04  # interest"
      ],
      "execution_count": 0,
      "outputs": []
    },
    {
      "cell_type": "code",
      "metadata": {
        "id": "dibdsN_EuvsM",
        "colab_type": "code",
        "outputId": "17e89aec-53ec-42bc-a54c-9b6cfadce45c",
        "colab": {
          "base_uri": "https://localhost:8080/",
          "height": 34
        }
      },
      "source": [
        "i_prime = log(1+i)\n",
        "f0 = (c/i_prime) * (1-(1+i)**(-x))\n",
        "print(f0)"
      ],
      "execution_count": 0,
      "outputs": [
        {
          "output_type": "stream",
          "text": [
            "276876.0258210814\n"
          ],
          "name": "stdout"
        }
      ]
    },
    {
      "cell_type": "markdown",
      "metadata": {
        "id": "JZhhjzP9yWnh",
        "colab_type": "text"
      },
      "source": [
        "Cool!\n",
        "\n",
        "Recalling the numbers in the first section, the first algorithm which assumed an infinite horizon prescribed 306 000 USD for that situation (\"1000 USD per month at 4% interest rate\"). This more precise estimate cut 30 000 USD from the number :)"
      ]
    }
  ]
}